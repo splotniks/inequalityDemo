{
 "cells": [
  {
   "cell_type": "markdown",
   "id": "325ddc35",
   "metadata": {},
   "source": [
    "# Below are various interactive graphs to introduce different inequality measures."
   ]
  },
  {
   "cell_type": "code",
   "execution_count": 1,
   "id": "12998339",
   "metadata": {},
   "outputs": [],
   "source": [
    "import method_tester2 as mt2\n",
    "DATA_URL = 'https://raw.githubusercontent.com/splotniks/inequal4/main/GCIPrawdata.csv'"
   ]
  },
  {
   "cell_type": "markdown",
   "id": "566081b7",
   "metadata": {},
   "source": [
    "## Income Deciles"
   ]
  },
  {
   "cell_type": "code",
   "execution_count": 2,
   "id": "9f83b97f",
   "metadata": {},
   "outputs": [
    {
     "data": {
      "application/vnd.jupyter.widget-view+json": {
       "model_id": "f194903847054d6a9084c716b544ec3e",
       "version_major": 2,
       "version_minor": 0
      },
      "text/plain": [
       "VBox(children=(HTML(value='<h2>Income deciles for a specified country</h2>', layout=Layout(margin='0 0 5em 0')…"
      ]
     },
     "metadata": {},
     "output_type": "display_data"
    }
   ],
   "source": [
    "IDs = mt2.IncomeDeciles.from_url(DATA_URL)\n",
    "IDs.container"
   ]
  },
  {
   "cell_type": "markdown",
   "id": "83acdbe1",
   "metadata": {},
   "source": [
    "## Rich/Poor Ratio (CORE)"
   ]
  },
  {
   "cell_type": "code",
   "execution_count": 3,
   "id": "17811fbc",
   "metadata": {},
   "outputs": [
    {
     "data": {
      "application/vnd.jupyter.widget-view+json": {
       "model_id": "d8a5e74785d04d93b4704090e4b5eaf0",
       "version_major": 2,
       "version_minor": 0
      },
      "text/plain": [
       "VBox(children=(HTML(value='Select the number of societies you would like to compare\\n                    <p><e…"
      ]
     },
     "metadata": {},
     "output_type": "display_data"
    }
   ],
   "source": [
    "counter1 = mt2.Counter.from_url(DATA_URL)\n",
    "counter1.container"
   ]
  },
  {
   "cell_type": "code",
   "execution_count": 4,
   "id": "fea5f81f",
   "metadata": {},
   "outputs": [
    {
     "data": {
      "application/vnd.jupyter.widget-view+json": {
       "model_id": "95caf818e370447bbd033b4c3d15ccff",
       "version_major": 2,
       "version_minor": 0
      },
      "text/plain": [
       "VBox(children=(HTML(value='<h1>Compare multiple countries</h1>\\n                    <p><em></em><p>\\n', layout…"
      ]
     },
     "metadata": {},
     "output_type": "display_data"
    }
   ],
   "source": [
    "MultIncomeDeciles = mt2.MultIncomeDeciles.from_url(DATA_URL,counter1._num)\n",
    "MultIncomeDeciles.container"
   ]
  },
  {
   "cell_type": "markdown",
   "id": "7e8aab3a",
   "metadata": {},
   "source": [
    "## DIY Inequality Measure"
   ]
  },
  {
   "cell_type": "code",
   "execution_count": 5,
   "id": "a7cffad5",
   "metadata": {},
   "outputs": [
    {
     "data": {
      "application/vnd.jupyter.widget-view+json": {
       "model_id": "4f8d6fa5c26d458baae374ad510fbc9f",
       "version_major": 2,
       "version_minor": 0
      },
      "text/plain": [
       "VBox(children=(HTML(value='<h1>Your Own Inequality Measure</h1>\\n                    <p><em>Select two differe…"
      ]
     },
     "metadata": {},
     "output_type": "display_data"
    }
   ],
   "source": [
    "YourMeasure = mt2.YourMeasure.from_url(DATA_URL)\n",
    "YourMeasure.container"
   ]
  },
  {
   "cell_type": "markdown",
   "id": "feffde3e",
   "metadata": {},
   "source": [
    "## Lorenz Curves"
   ]
  },
  {
   "cell_type": "code",
   "execution_count": 6,
   "id": "52d39df4",
   "metadata": {},
   "outputs": [
    {
     "data": {
      "application/vnd.jupyter.widget-view+json": {
       "model_id": "7d1079c662b04717ace0d14f9752d381",
       "version_major": 2,
       "version_minor": 0
      },
      "text/plain": [
       "VBox(children=(HTML(value='Select the number of societies you would like to compare\\n                    <p><e…"
      ]
     },
     "metadata": {},
     "output_type": "display_data"
    }
   ],
   "source": [
    "count2 = mt2.Counter.from_url(DATA_URL)\n",
    "count2.container"
   ]
  },
  {
   "cell_type": "code",
   "execution_count": 7,
   "id": "56a950d7",
   "metadata": {},
   "outputs": [
    {
     "data": {
      "application/vnd.jupyter.widget-view+json": {
       "model_id": "d59f80aea5db45adb7bda6864dc4dcad",
       "version_major": 2,
       "version_minor": 0
      },
      "text/plain": [
       "VBox(children=(HTML(value='<h1>Create your own LCs from income distributions</h1>\\n                    <p><em>…"
      ]
     },
     "metadata": {},
     "output_type": "display_data"
    }
   ],
   "source": [
    "mlc1 = mt2.multiLC.create(count2._num)\n",
    "mlc1.container"
   ]
  },
  {
   "cell_type": "markdown",
   "id": "9149e4c7",
   "metadata": {},
   "source": [
    "## Gini"
   ]
  },
  {
   "cell_type": "code",
   "execution_count": 8,
   "id": "37ff03d8",
   "metadata": {},
   "outputs": [
    {
     "data": {
      "application/vnd.jupyter.widget-view+json": {
       "model_id": "3a017921481b47b899555d157c92ea59",
       "version_major": 2,
       "version_minor": 0
      },
      "text/plain": [
       "VBox(children=(HTML(value='Select the number of societies you would like to compare\\n                    <p><e…"
      ]
     },
     "metadata": {},
     "output_type": "display_data"
    }
   ],
   "source": [
    "count3 = mt2.Counter.from_url(DATA_URL)\n",
    "count3.container"
   ]
  },
  {
   "cell_type": "code",
   "execution_count": 9,
   "id": "2f375eca",
   "metadata": {},
   "outputs": [
    {
     "data": {
      "application/vnd.jupyter.widget-view+json": {
       "model_id": "79f4f09675314df1af53fd1074d62d5d",
       "version_major": 2,
       "version_minor": 0
      },
      "text/plain": [
       "VBox(children=(HTML(value='<h1>Find Gini from income distributions</h1>\\n                    <p><em>Enter in t…"
      ]
     },
     "metadata": {},
     "output_type": "display_data"
    }
   ],
   "source": [
    "gini1 = mt2.Gini.create(count3._num)\n",
    "gini1.container"
   ]
  },
  {
   "cell_type": "markdown",
   "id": "972f84ab",
   "metadata": {},
   "source": [
    "## LC & Gini"
   ]
  },
  {
   "cell_type": "code",
   "execution_count": 10,
   "id": "3617ea1e",
   "metadata": {},
   "outputs": [
    {
     "data": {
      "application/vnd.jupyter.widget-view+json": {
       "model_id": "bb283d06ab3849b9aa79cffeb9267a38",
       "version_major": 2,
       "version_minor": 0
      },
      "text/plain": [
       "VBox(children=(HTML(value='Select the number of societies you would like to compare\\n                    <p><e…"
      ]
     },
     "metadata": {},
     "output_type": "display_data"
    }
   ],
   "source": [
    "count4 = mt2.Counter.from_url(DATA_URL)\n",
    "count4.container"
   ]
  },
  {
   "cell_type": "code",
   "execution_count": 11,
   "id": "ed51ad6f",
   "metadata": {},
   "outputs": [
    {
     "data": {
      "application/vnd.jupyter.widget-view+json": {
       "model_id": "c73736465bf640ac885e36d1954b072a",
       "version_major": 2,
       "version_minor": 0
      },
      "text/plain": [
       "VBox(children=(HTML(value='<h1>Create your own LCs & Ginis from income distributions</h1>\\n                   …"
      ]
     },
     "metadata": {},
     "output_type": "display_data"
    }
   ],
   "source": [
    "LCgini = mt2.LCGini.create(count4._num)\n",
    "LCgini.container"
   ]
  }
 ],
 "metadata": {
  "kernelspec": {
   "display_name": "Python 3",
   "language": "python",
   "name": "python3"
  },
  "language_info": {
   "codemirror_mode": {
    "name": "ipython",
    "version": 3
   },
   "file_extension": ".py",
   "mimetype": "text/x-python",
   "name": "python",
   "nbconvert_exporter": "python",
   "pygments_lexer": "ipython3",
   "version": "3.7.4"
  }
 },
 "nbformat": 4,
 "nbformat_minor": 5
}
