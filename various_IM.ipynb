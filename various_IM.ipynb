{
 "cells": [
  {
   "cell_type": "markdown",
   "id": "605fb55d",
   "metadata": {},
   "source": [
    "# Below are various interactive graphs to introduce different inequality measures."
   ]
  },
  {
   "cell_type": "code",
   "execution_count": 1,
   "id": "0d79b9c5",
   "metadata": {},
   "outputs": [],
   "source": [
    "import method_tester2 as mt2\n",
    "DATA_URL = 'https://raw.githubusercontent.com/splotniks/inequal4/main/GCIPrawdata.csv'"
   ]
  },
  {
   "cell_type": "markdown",
   "id": "d70cc148",
   "metadata": {},
   "source": [
    "## Income Deciles"
   ]
  },
  {
   "cell_type": "code",
   "execution_count": 2,
   "id": "1f4fc5c8",
   "metadata": {},
   "outputs": [
    {
     "data": {
      "application/vnd.jupyter.widget-view+json": {
       "model_id": "6d221cd17cc34d81b7e55af7b4c53bc7",
       "version_major": 2,
       "version_minor": 0
      },
      "text/plain": [
       "VBox(children=(HTML(value='<h2>Income deciles for a specified country</h2>', layout=Layout(margin='0 0 5em 0')…"
      ]
     },
     "metadata": {},
     "output_type": "display_data"
    }
   ],
   "source": [
    "IDs = mt2.IncomeDeciles.from_url(DATA_URL)\n",
    "IDs.container"
   ]
  },
  {
   "cell_type": "markdown",
   "id": "b1382aeb",
   "metadata": {},
   "source": [
    "## Rich/Poor Ratio (CORE)"
   ]
  },
  {
   "cell_type": "code",
   "execution_count": 3,
   "id": "80f2b095",
   "metadata": {},
   "outputs": [
    {
     "data": {
      "application/vnd.jupyter.widget-view+json": {
       "model_id": "815e2200d07f4990832f1ae2f0208b9d",
       "version_major": 2,
       "version_minor": 0
      },
      "text/plain": [
       "VBox(children=(HTML(value='Select the number of societies you would like to compare\\n                    <p><e…"
      ]
     },
     "metadata": {},
     "output_type": "display_data"
    }
   ],
   "source": [
    "counter1 = mt2.Counter.from_url(DATA_URL)\n",
    "counter1.container"
   ]
  },
  {
   "cell_type": "code",
   "execution_count": 4,
   "id": "b9069658",
   "metadata": {},
   "outputs": [
    {
     "data": {
      "application/vnd.jupyter.widget-view+json": {
       "model_id": "b57408722d584b6588d0640287e0fd02",
       "version_major": 2,
       "version_minor": 0
      },
      "text/plain": [
       "VBox(children=(HTML(value='<h1>Compare multiple countries</h1>\\n                    <p><em></em><p>\\n', layout…"
      ]
     },
     "metadata": {},
     "output_type": "display_data"
    }
   ],
   "source": [
    "MultIncomeDeciles = mt2.MultIncomeDeciles.from_url(DATA_URL,counter1._num)\n",
    "MultIncomeDeciles.container"
   ]
  },
  {
   "cell_type": "markdown",
   "id": "df08dd45",
   "metadata": {},
   "source": [
    "## DIY Inequality Measure"
   ]
  },
  {
   "cell_type": "code",
   "execution_count": 5,
   "id": "74b88190",
   "metadata": {},
   "outputs": [
    {
     "data": {
      "application/vnd.jupyter.widget-view+json": {
       "model_id": "7f1cb03434194c6b863531d4ac3f980f",
       "version_major": 2,
       "version_minor": 0
      },
      "text/plain": [
       "VBox(children=(HTML(value='<h1>Your Own Inequality Measure</h1>\\n                    <p><em>Select two differe…"
      ]
     },
     "metadata": {},
     "output_type": "display_data"
    }
   ],
   "source": [
    "YourMeasure = mt2.YourMeasure.from_url(DATA_URL)\n",
    "YourMeasure.container"
   ]
  },
  {
   "cell_type": "markdown",
   "id": "7d961283",
   "metadata": {},
   "source": [
    "## Lorenz Curves"
   ]
  },
  {
   "cell_type": "code",
   "execution_count": 6,
   "id": "e83be598",
   "metadata": {},
   "outputs": [
    {
     "data": {
      "application/vnd.jupyter.widget-view+json": {
       "model_id": "419aac57ccbc483fb8c6922c8755cdf4",
       "version_major": 2,
       "version_minor": 0
      },
      "text/plain": [
       "VBox(children=(HTML(value='Select the number of societies you would like to compare\\n                    <p><e…"
      ]
     },
     "metadata": {},
     "output_type": "display_data"
    }
   ],
   "source": [
    "count2 = mt2.Counter.from_url(DATA_URL)\n",
    "count2.container"
   ]
  },
  {
   "cell_type": "code",
   "execution_count": 7,
   "id": "ec283493",
   "metadata": {},
   "outputs": [
    {
     "data": {
      "application/vnd.jupyter.widget-view+json": {
       "model_id": "76e3bda49b8f490aa9dafb2b978ceb38",
       "version_major": 2,
       "version_minor": 0
      },
      "text/plain": [
       "VBox(children=(HTML(value='<h1>Create your own LCs from income distributions</h1>\\n                    <p><em>…"
      ]
     },
     "metadata": {},
     "output_type": "display_data"
    }
   ],
   "source": [
    "mlc1 = mt2.multiLC.create(count2._num)\n",
    "mlc1.container"
   ]
  },
  {
   "cell_type": "markdown",
   "id": "4f4c304a",
   "metadata": {},
   "source": [
    "## Gini"
   ]
  },
  {
   "cell_type": "code",
   "execution_count": 8,
   "id": "174af1da",
   "metadata": {},
   "outputs": [
    {
     "data": {
      "application/vnd.jupyter.widget-view+json": {
       "model_id": "b75037c3f42e4784b4a110df89a9db7a",
       "version_major": 2,
       "version_minor": 0
      },
      "text/plain": [
       "VBox(children=(HTML(value='Select the number of societies you would like to compare\\n                    <p><e…"
      ]
     },
     "metadata": {},
     "output_type": "display_data"
    }
   ],
   "source": [
    "count3 = mt2.Counter.from_url(DATA_URL)\n",
    "count3.container"
   ]
  },
  {
   "cell_type": "code",
   "execution_count": 9,
   "id": "e46484fa",
   "metadata": {},
   "outputs": [
    {
     "data": {
      "application/vnd.jupyter.widget-view+json": {
       "model_id": "acacc16ef9d24f51b47afd1fdbd3c3d8",
       "version_major": 2,
       "version_minor": 0
      },
      "text/plain": [
       "VBox(children=(HTML(value='<h1>Find Gini from income distributions</h1>\\n                    <p><em>Enter in t…"
      ]
     },
     "metadata": {},
     "output_type": "display_data"
    }
   ],
   "source": [
    "gini1 = mt2.Gini.create(count3._num)\n",
    "gini1.container"
   ]
  },
  {
   "cell_type": "markdown",
   "id": "ff339ca7",
   "metadata": {},
   "source": [
    "## LC & Gini"
   ]
  },
  {
   "cell_type": "code",
   "execution_count": 10,
   "id": "0bae82eb",
   "metadata": {},
   "outputs": [
    {
     "data": {
      "application/vnd.jupyter.widget-view+json": {
       "model_id": "da9ac294bded410a8ae8166b9b3107d8",
       "version_major": 2,
       "version_minor": 0
      },
      "text/plain": [
       "VBox(children=(HTML(value='Select the number of societies you would like to compare\\n                    <p><e…"
      ]
     },
     "metadata": {},
     "output_type": "display_data"
    }
   ],
   "source": [
    "count4 = mt2.Counter.from_url(DATA_URL)\n",
    "count4.container"
   ]
  },
  {
   "cell_type": "code",
   "execution_count": 11,
   "id": "cf231d55",
   "metadata": {},
   "outputs": [
    {
     "data": {
      "application/vnd.jupyter.widget-view+json": {
       "model_id": "5998528a4b5b4d568f02075afbf78b61",
       "version_major": 2,
       "version_minor": 0
      },
      "text/plain": [
       "VBox(children=(HTML(value='<h1>Create your own LCs & Ginis from income distributions</h1>\\n                   …"
      ]
     },
     "metadata": {},
     "output_type": "display_data"
    }
   ],
   "source": [
    "LCgini = mt2.LCGini.create(count4._num)\n",
    "LCgini.container"
   ]
  },
  {
   "cell_type": "markdown",
   "id": "cc40e7aa",
   "metadata": {},
   "source": [
    "## Compare LCs and Ginis over time/region"
   ]
  },
  {
   "cell_type": "code",
   "execution_count": 12,
   "id": "fc64ffb2",
   "metadata": {},
   "outputs": [
    {
     "data": {
      "application/vnd.jupyter.widget-view+json": {
       "model_id": "568e2db67b1b4b90b63e5cf849f83d0f",
       "version_major": 2,
       "version_minor": 0
      },
      "text/plain": [
       "VBox(children=(HTML(value='\\n                    ', layout=Layout(margin='0 0 4em 0')), HBox(children=(VBox(ch…"
      ]
     },
     "metadata": {},
     "output_type": "display_data"
    }
   ],
   "source": [
    "CountryLCGini = mt2.CountryLCGini.from_url(DATA_URL)\n",
    "CountryLCGini.container"
   ]
  },
  {
   "cell_type": "code",
   "execution_count": 13,
   "id": "73e77234",
   "metadata": {},
   "outputs": [
    {
     "data": {
      "application/vnd.jupyter.widget-view+json": {
       "model_id": "e92f1a907c4d478f88fd3fb8fc1a1fbd",
       "version_major": 2,
       "version_minor": 0
      },
      "text/plain": [
       "VBox(children=(HTML(value='Select the number of societies you would like to compare\\n                    <p><e…"
      ]
     },
     "metadata": {},
     "output_type": "display_data"
    }
   ],
   "source": [
    "count5 = mt2.Counter.from_url(DATA_URL)\n",
    "count5.container"
   ]
  },
  {
   "cell_type": "code",
   "execution_count": 14,
   "id": "6007b522",
   "metadata": {},
   "outputs": [
    {
     "data": {
      "application/vnd.jupyter.widget-view+json": {
       "model_id": "46a8c7cfcb1b48b48eb69b14424f52a9",
       "version_major": 2,
       "version_minor": 0
      },
      "text/plain": [
       "VBox(children=(HTML(value='<h1>Compare multiple countries</h1>\\n                    <p><em></em><p>\\n', layout…"
      ]
     },
     "metadata": {},
     "output_type": "display_data"
    }
   ],
   "source": [
    "CountryGinis = mt2.CountryGinis.from_url(DATA_URL,count5._num)\n",
    "CountryGinis.container"
   ]
  },
  {
   "cell_type": "code",
   "execution_count": null,
   "id": "3f7da4a6",
   "metadata": {},
   "outputs": [],
   "source": []
  }
 ],
 "metadata": {
  "kernelspec": {
   "display_name": "Python 3",
   "language": "python",
   "name": "python3"
  },
  "language_info": {
   "codemirror_mode": {
    "name": "ipython",
    "version": 3
   },
   "file_extension": ".py",
   "mimetype": "text/x-python",
   "name": "python",
   "nbconvert_exporter": "python",
   "pygments_lexer": "ipython3",
   "version": "3.7.4"
  }
 },
 "nbformat": 4,
 "nbformat_minor": 5
}
